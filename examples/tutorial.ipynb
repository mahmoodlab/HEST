{
 "cells": [
  {
   "cell_type": "markdown",
   "metadata": {},
   "source": [
    "## Read a HESTData sample from disk"
   ]
  },
  {
   "cell_type": "code",
   "execution_count": null,
   "metadata": {},
   "outputs": [],
   "source": [
    "from hest import read_HESTData\n",
    "\n",
    "st = read_HESTData(\n",
    "    adata_path='SPA154.h5ad', # aligned ST counts\n",
    "    img='SPA154.tif', # WSI\n",
    "    metrics_path='SPA154.json', # metrics/metadata\n",
    "    mask_path_pkl='SPA154_mask.pkl', # optional (tissue_mask)\n",
    "    mask_path_jpg='SPA154_mask.jpg' # optional (tissue_mask)\n",
    ")"
   ]
  },
  {
   "cell_type": "markdown",
   "metadata": {},
   "source": [
    "## Visualizing the spots over a full-resolution WSI"
   ]
  },
  {
   "cell_type": "code",
   "execution_count": null,
   "metadata": {},
   "outputs": [],
   "source": [
    "# visualize the spots over a downscaled version of the full resolution image\n",
    "save_dir = '.'\n",
    "\n",
    "st.save_spatial_plot(save_dir)"
   ]
  },
  {
   "cell_type": "markdown",
   "metadata": {},
   "source": [
    "## Saving to pyramidal tiff and h5\n",
    "Save `HESTData` object to `.tiff` + expression `.h5ad` and a metadata file."
   ]
  },
  {
   "cell_type": "code",
   "execution_count": null,
   "metadata": {},
   "outputs": [],
   "source": [
    "# Warning saving a large image to pyramidal tiff (>1GB) can be slow on a hard drive.\n",
    "st.save(save_dir, pyramidal=True)"
   ]
  },
  {
   "cell_type": "markdown",
   "metadata": {},
   "source": [
    "## Deep learning (or Otsu) based segmentation"
   ]
  },
  {
   "cell_type": "code",
   "execution_count": null,
   "metadata": {},
   "outputs": [],
   "source": [
    "save_dir = '.'\n",
    "name = 'my_sample'\n",
    "\n",
    "st.segment_tissue(method='deep') # or method='otsu'\n",
    "st.save_tissue_seg_pkl(save_dir, name)\n",
    "st.save_tissue_seg_jpg(save_dir, name)"
   ]
  },
  {
   "cell_type": "markdown",
   "metadata": {},
   "source": [
    "## Patching"
   ]
  },
  {
   "cell_type": "code",
   "execution_count": null,
   "metadata": {},
   "outputs": [],
   "source": [
    "patch_save_dir = '.'\n",
    "\n",
    "st.dump_patches(\n",
    "    patch_save_dir,\n",
    "    'demo',\n",
    "    target_patch_size=224,\n",
    "    target_pixel_size=0.5\n",
    ")"
   ]
  },
  {
   "cell_type": "markdown",
   "metadata": {},
   "source": [
    "## Hest reader API\n",
    "\n",
    "## Reading legacy Visium files\n",
    "\n",
    "### When should I provide an alignment file and when should I use the autoalignment?\n",
    "\n",
    "#### Step 1: check if a tissue_positions.csv/tissue_position_list.csv already provides a correct alignment\n",
    "Most of the time if a spatial/ folder containing a tissue_positions.csv/tissue_position_list.csv is available you don't need any autoalignment/alignment file. Try the following: `st = VisiumReader().read(fullres_img_path, bc_matric_path, spatial_coord_path=spatial_path)` (where `spatial_path` is a folder that contains a tissue_positions.csv or a tissue_position_list.csv), you can then double check the alignment (`st.save_spatial_plot(save_dir)`) by saving a visualization plot that takes the full resolution image, downscale it and overlays it with the spots. If the alignment looks off, try step 2.\n",
    "\n",
    "#### Step 2: check if a .json alignment file is provided\n",
    "If a .json alignment file is available, try the following `VisiumReader().read(fullres_img_path, bc_matric_path, spatial_coord_path=spatial_path, alignment_file_path=align_path)` you can also ommit the spatial_coord_path `VisiumReader().read(fullres_img_path, bc_matric_path, alignment_file_path=align_path)`\n",
    "\n",
    "#### Step 3: attempt auto-alignment\n",
    "If at least 3 corner fiducials are not cropped out and are reasonably visible, you can attempt an autoalignment with `VisiumReader().read(fullres_img_path, bc_matric_path`. (if no spatial folder and no alignment_file_path is provided, it will attempt autoalignment by default, you can always force auto-alignment by passing `autoalign='always'`)\n",
    "\n",
    "### Reading from a filtered_feature_bc_matrix.h5, an image and a spatial/ folder"
   ]
  },
  {
   "cell_type": "code",
   "execution_count": null,
   "metadata": {},
   "outputs": [],
   "source": [
    "from hest import VisiumReader\n",
    "\n",
    "fullres_img_path = 'my_path/image.tif'\n",
    "bc_matrix_path = 'my_path/filtered_bc_matrix.h5'\n",
    "spatial_coord_path = 'my_path/spatial'\n",
    "alignment_file_path = 'my_path/alignment.txt'\n",
    "\n",
    "st = VisiumReader().read(\n",
    "    fullres_img_path, # path to a full res image\n",
    "    bc_matrix_path, # path to filtered_feature_bc_matrix.h5\n",
    "    spatial_coord_path=spatial_coord_path # path to a space ranger spatial/ folder containing either a tissue_positions.csv or tissue_position_list.csv\n",
    ")\n",
    "\n",
    "# if no spatial folder is provided, but you have an alignment file\n",
    "st = VisiumReader().read(\n",
    "    fullres_img_path, # path to a full res image\n",
    "    bc_matrix_path, # path to filtered_feature_bc_matrix.h5\n",
    "    alignment_file_path=alignment_file_path # path to a .json alignment file\n",
    ")\n",
    "\n",
    "# if both the alignment file and the spatial folder are missing, attempt autoalignment\n",
    "st = VisiumReader().read(\n",
    "    fullres_img_path, # path to a full res image\n",
    "    bc_matrix_path, # path to filtered_feature_bc_matrix.h5\n",
    ")\n"
   ]
  },
  {
   "cell_type": "markdown",
   "metadata": {},
   "source": [
    "### Auto read\n",
    "Given that `visium_dir` contains a full resolution image and all the necessary Visium files such as the `filtered_bc_matrix.h5` and the `spatial` folder, `VisiumReader.auto_read(path)` should be able to automatically read the sample. Prefer `read` for a more fine grain control.\n"
   ]
  },
  {
   "cell_type": "code",
   "execution_count": null,
   "metadata": {},
   "outputs": [],
   "source": [
    "from hest import VisiumReader\n",
    "\n",
    "visium_dir = ...\n",
    "\n",
    "# attempt autoread\n",
    "st = VisiumReader().auto_read(visium_dir)"
   ]
  }
 ],
 "metadata": {
  "kernelspec": {
   "display_name": "hest",
   "language": "python",
   "name": "python3"
  },
  "language_info": {
   "codemirror_mode": {
    "name": "ipython",
    "version": 3
   },
   "file_extension": ".py",
   "mimetype": "text/x-python",
   "name": "python",
   "nbconvert_exporter": "python",
   "pygments_lexer": "ipython3",
   "version": "3.9.19"
  }
 },
 "nbformat": 4,
 "nbformat_minor": 2
}
