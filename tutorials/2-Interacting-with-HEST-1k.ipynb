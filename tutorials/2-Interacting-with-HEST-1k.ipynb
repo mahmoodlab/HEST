{
 "cells": [
  {
   "cell_type": "markdown",
   "metadata": {},
   "source": [
    "## Read a HESTData sample from disk"
   ]
  },
  {
   "cell_type": "code",
   "execution_count": null,
   "metadata": {},
   "outputs": [],
   "source": [
    "from hest import read_HESTData\n",
    "from hest import load_hest\n",
    "\n",
    "\n",
    "# Read the whole hest dataset\n",
    "hest_data = load_hest('hest_data')\n",
    "\n",
    "# Read a subset of hest\n",
    "hest_data = load_hest('hest_data', id_list=['TENX96', 'TENX99'])\n",
    "\n",
    "# or read an individual sample from disk\n",
    "st = read_HESTData(\n",
    "    adata_path='my_h5ad.h5ad', # aligned ST counts\n",
    "    img='my_image.tif', # WSI\n",
    "    metrics_path='my_metrics.json', # metrics/metadata\n",
    "    mask_path_pkl='my_mask.pkl', # optional (tissue_mask)\n",
    "    mask_path_jpg='my_mask.jpg' # optional (tissue_mask)\n",
    ")"
   ]
  },
  {
   "cell_type": "markdown",
   "metadata": {},
   "source": [
    "## Visualizing the spots over a full-resolution WSI"
   ]
  },
  {
   "cell_type": "code",
   "execution_count": null,
   "metadata": {},
   "outputs": [],
   "source": [
    "# visualize the spots over a downscaled version of the full resolution image\n",
    "save_dir = '.'\n",
    "\n",
    "st.save_spatial_plot(save_dir)"
   ]
  },
  {
   "cell_type": "markdown",
   "metadata": {},
   "source": [
    "## Saving to pyramidal tiff and h5\n",
    "Save `HESTData` object to `.tiff` + expression `.h5ad` and a metadata file."
   ]
  },
  {
   "cell_type": "code",
   "execution_count": null,
   "metadata": {},
   "outputs": [],
   "source": [
    "# Warning saving a large image to pyramidal tiff (>1GB) can be slow on a hard drive.\n",
    "st.save(save_dir, pyramidal=True)"
   ]
  },
  {
   "cell_type": "markdown",
   "metadata": {},
   "source": [
    "## Deep learning (or Otsu) based segmentation"
   ]
  },
  {
   "cell_type": "code",
   "execution_count": null,
   "metadata": {},
   "outputs": [],
   "source": [
    "save_dir = '.'\n",
    "name = 'my_sample'\n",
    "\n",
    "st.segment_tissue(method='deep') # or method='otsu'\n",
    "st.save_tissue_seg_pkl(save_dir, name)\n",
    "st.save_tissue_seg_jpg(save_dir, name)"
   ]
  },
  {
   "cell_type": "markdown",
   "metadata": {},
   "source": [
    "## Patching"
   ]
  },
  {
   "cell_type": "code",
   "execution_count": null,
   "metadata": {},
   "outputs": [],
   "source": [
    "patch_save_dir = '.'\n",
    "\n",
    "st.dump_patches(\n",
    "    patch_save_dir,\n",
    "    'demo',\n",
    "    target_patch_size=224,\n",
    "    target_pixel_size=0.5\n",
    ")"
   ]
  }
 ],
 "metadata": {
  "kernelspec": {
   "display_name": "hest",
   "language": "python",
   "name": "python3"
  },
  "language_info": {
   "codemirror_mode": {
    "name": "ipython",
    "version": 3
   },
   "file_extension": ".py",
   "mimetype": "text/x-python",
   "name": "python",
   "nbconvert_exporter": "python",
   "pygments_lexer": "ipython3",
   "version": "3.9.19"
  }
 },
 "nbformat": 4,
 "nbformat_minor": 2
}
