{
 "cells": [
  {
   "cell_type": "markdown",
   "metadata": {},
   "source": [
    "## Xenium sensitivity and specificity analysis\n",
    "\n",
    "### Relative per-gene sensitivity between two samples\n",
    "\n",
    "This task compares the sensitivity of two samples obtained with different panels (Xenium Prime 5K relative to Xenium v1).\n",
    "\n",
    "| Sample  | Panel | Organ | Disease |\n",
    "|---------|-------|-------|---------|\n",
    "| TENX143 | Xenium Human 5K Pan Tissue and Pathways Panel | Lymphoid | Diseased (Reactive Lymph Node) |\n",
    "| TENX125 | Xenium Human Multi-Tissue and Cancer Panel (V1) | Lymphoid | Diseased (Reactive follicular hyperplasia) |\n",
    "| TENX158 | Xenium Human 5K Pan Tissue and Pathways Panel | Skin | Cancer (Primary Dermal Melanoma) |\n",
    "| TENX115 | Xenium Human Skin Gene Expression Panel (V1) | Skin | Cancer (SKCM) |\n",
    "\n",
    "Compare same-organ samples to have enough genes in common."
   ]
  },
  {
   "cell_type": "code",
   "execution_count": null,
   "metadata": {},
   "outputs": [],
   "source": [
    "from hest.HESTData import iter_hest, unify_gene_names\n",
    "from hest.sensitivity import find_common_genes, filter_adata_by_gene_names, paired_sensitivity\n",
    "\n",
    "ids_to_query = ['TENX143', 'TENX125']\n",
    "\n",
    "adata_list = []\n",
    "for st in iter_hest('../hest_data', id_list=ids_to_query):\n",
    "    unified_adata = unify_gene_names(st.adata)\n",
    "    adata_list.append(unified_adata)\n",
    "\n",
    "common_genes = find_common_genes(adata_list)\n",
    "if len(common_genes) > 0:\n",
    "    print('Number of Common Genes: ', len(common_genes))\n",
    "else:\n",
    "    raise ValueError('No common genes found between the datasets')\n",
    "\n",
    "adata_filtered_1 = filter_adata_by_gene_names(adata_list[0], common_genes)\n",
    "adata_filtered_2 = filter_adata_by_gene_names(adata_list[1], common_genes)\n",
    "\n",
    "per_gene_ratio, per_sample_ratio = paired_sensitivity(adata_filtered_1, adata_filtered_2)\n",
    "\n",
    "import matplotlib.pyplot as plt\n",
    "subtitle = f'Ratio of average sensitivity across all genes = {per_sample_ratio*100:.2f}%'\n",
    "plt.figure(figsize=(4, 6), dpi=400)\n",
    "plt.boxplot(per_gene_ratio * 100, tick_labels=[subtitle])\n",
    "plt.title(f'Per-Gene Sensitivity {ids_to_query[0]} Relative to {ids_to_query[1]}')\n",
    "plt.ylabel('Per-Gene Relative Sensitivity (%)')\n",
    "plt.show()"
   ]
  },
  {
   "cell_type": "markdown",
   "metadata": {},
   "source": [
    "### False Positive Rate\n",
    "\n",
    "Two metrics are proposed:\n",
    "- **Negative Control Codeword Rate (NCCR)**: false positive rate of the decoding algorithm adjusted to the proportion of negative control codewords in the panel.\n",
    "- **Negative Control Probe Rate (NCPR)**: false positive rate of the transcript signal adjusted to the proportion of probes that are negative control probes in the panel."
   ]
  },
  {
   "cell_type": "code",
   "execution_count": null,
   "metadata": {},
   "outputs": [],
   "source": [
    "from hest.HESTData import XeniumHESTData\n",
    "\n",
    "for st in iter_hest('../hest_data', id_list=ids_to_query):\n",
    "    # Convert HESTData to XeniumHESTData\n",
    "    xenium_st = XeniumHESTData(st.adata, st.wsi, st.pixel_size)\n",
    "    \n",
    "    print('False Positive Rate Metrics for', st.meta['id'])\n",
    "    nccr = xenium_st.compute_negative_control_codeword_rate()\n",
    "    ncpr = xenium_st.compute_negative_control_probe_rate()\n",
    "    print(f'Negative Control Codeword Rate: {nccr*100:.2f}%')\n",
    "    print(f'Negative Control Probe Rate: {ncpr*100:.2f}%')\n",
    "    print()"
   ]
  },
  {
   "cell_type": "markdown",
   "metadata": {},
   "source": [
    "### Using raw transcript data\n",
    "\n",
    "Using raw transcript data one can filter high quality (Phred quality score >= 20) transcripts."
   ]
  },
  {
   "cell_type": "code",
   "execution_count": null,
   "metadata": {},
   "outputs": [],
   "source": [
    "import pandas as pd\n",
    "\n",
    "for st in iter_hest('../hest_data', id_list=ids_to_query):\n",
    "    # Load transcripts efficiently and filter low quality transcripts\n",
    "    sample_id = st.meta['id']\n",
    "    parquet_file = f'../hest_data/transcripts/{sample_id}_transcripts.parquet'\n",
    "    transcript_df = pd.read_parquet(parquet_file, columns=['feature_name', 'qv'])\n",
    "    transcript_df = transcript_df[transcript_df['qv'] >= 20][['feature_name']]\n",
    "\n",
    "    # Convert HESTData to XeniumHESTData\n",
    "    xenium_st = XeniumHESTData(st.adata, st.wsi, st.pixel_size)\n",
    "    xenium_st.transcript_df = transcript_df\n",
    "\n",
    "    print('False Positive Rate Metrics for', sample_id)\n",
    "    nccr = xenium_st.compute_negative_control_codeword_rate()\n",
    "    ncpr = xenium_st.compute_negative_control_probe_rate()\n",
    "    print(f'Negative Control Codeword Rate: {nccr*100:.2f}%')\n",
    "    print(f'Negative Control Probe Rate: {ncpr*100:.2f}%')\n",
    "    print()"
   ]
  }
 ],
 "metadata": {
  "kernelspec": {
   "display_name": "hest",
   "language": "python",
   "name": "python3"
  },
  "language_info": {
   "codemirror_mode": {
    "name": "ipython",
    "version": 3
   },
   "file_extension": ".py",
   "mimetype": "text/x-python",
   "name": "python",
   "nbconvert_exporter": "python",
   "pygments_lexer": "ipython3",
   "version": "3.9.20"
  }
 },
 "nbformat": 4,
 "nbformat_minor": 2
}
