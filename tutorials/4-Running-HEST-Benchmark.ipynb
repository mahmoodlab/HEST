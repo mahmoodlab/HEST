{
 "cells": [
  {
   "cell_type": "markdown",
   "metadata": {},
   "source": [
    "## Step-by-step instructions to run HEST-Benchmark\n",
    "\n",
    "This tutorial will guide you to:\n",
    "\n",
    "- **Reproduce** HEST-Benchmark results provided in the paper (Random Forest regression and Ridge regression models)\n",
    "- Benchmark your **own** model\n"
   ]
  },
  {
   "cell_type": "markdown",
   "metadata": {},
   "source": [
    "## Reproducing HEST-Benchmark results \n",
    "\n",
    "- Ensure that HEST has been properly installed (see README, Installation)\n",
    "- Download preprocessed patches, h5ad and gene targets  \n",
    "- Download publicly available patch encoders\n",
    "\n",
    "**Note:** Not all public foundation models can be shared due to licensing issues. We provide model-specific instructions that users can follow to access weights:\n",
    "\n",
    "#### CONCH installation (model + weights)\n",
    "\n",
    "1. Request access to the model weights from the Huggingface model page [here](https://huggingface.co/MahmoodLab/CONCH).\n",
    "\n",
    "2. Download the model weights (`pytorch_model.bin`) and place them in your `fm_v1` directory `fm_v1/conch_v1_official/pytorch_model.bin`\n",
    "\n",
    "3. Install the CONCH PyTorch model:\n",
    "\n",
    "```\n",
    "git clone https://github.com/mahmoodlab/CONCH.git\n",
    "cd CONCH\n",
    "pip install -e .\n",
    "```\n",
    "\n",
    "#### UNI installation (weights only)\n",
    "\n",
    "1. Request access to the model weights from the Huggingface model page [here](https://huggingface.co/MahmoodLab/UNI).\n",
    "\n",
    "2. Download the model weights (`pytorch_model.bin`) and place them in your `fm_v1` directory `fm_v1/uni_v1_official/pytorch_model.bin`\n",
    "\n",
    "\n",
    "#### GigaPath installation (weight only)\n",
    "\n",
    "1. Request access to the model weights from the Huggingface model page  [here](https://huggingface.co/prov-gigapath/prov-gigapath).\n",
    "2. Download the model weights (`prov-gigapath.bin`) and place them in your `fm_v1` directory `fm_v1/uni_v1_official/pytorch_model.bin`\n"
   ]
  },
  {
   "cell_type": "code",
   "execution_count": 3,
   "metadata": {},
   "outputs": [
    {
     "name": "stderr",
     "output_type": "stream",
     "text": [
      "Fetching 303 files: 100%|████████████████████████████████████████████████████████████████████████████████████████████████████████████████████████████████| 303/303 [00:50<00:00,  6.04it/s]\n"
     ]
    },
    {
     "data": {
      "text/plain": [
       "'/media/disk2/hest/hest/hest_bench'"
      ]
     },
     "execution_count": 3,
     "metadata": {},
     "output_type": "execute_result"
    }
   ],
   "source": [
    "from huggingface_hub import snapshot_download\n",
    "\n",
    "local_dir='../hest_bench' \n",
    "\n",
    "# Download HEST-Benchmark data \n",
    "snapshot_download(repo_id=\"MahmoodLab/hest-bench\", repo_type='dataset', local_dir=local_dir)\n",
    "\n",
    "# Download HEST-Benchmark foundation models \n"
   ]
  },
  {
   "cell_type": "markdown",
   "metadata": {},
   "source": [
    "- Set paths in `bench_config/bench_config.yaml`. For instance:\n",
    "\n",
    "```yaml\n",
    "# Directory paths\n",
    "source_dataroot: '../hest_bench'\n",
    "results_dir: '../hest_bench/results'\n",
    "embed_dataroot: '../hest_bench/ST_data_emb'\n",
    "weights_root: '../hest_bench/fm_v1'\n",
    "\n",
    "# Inference parameters\n",
    "precision: 'fp32'\n",
    "batch_size: 128\n",
    "num_workers: 1\n",
    "\n",
    "# Encoders to benchmark\n",
    "encoders: [\"kimianet\", \"plip\", \"resnet50_trunc\", \"ciga\", \n",
    "           \"ctranspath\", \"phikon_official_hf\", \n",
    "           #\"uni_v1_official\", # uncomment after requesting the weights\n",
    "           \"remedis\", # uncomment after requesting the weights\n",
    "           #\"conch_v1_official\" # uncomment after requesting the weights\n",
    "]\n",
    "\n",
    "# Datasets to benchmark\n",
    "datasets: [\"IDC\", \"PRAD\", \"PAAD\", \"SKCM\", \"COAD\", \n",
    "           \"READ\", \"CCRCC\", \"HCC\", \"LUNG\", \"LYMPH_IDC\"]\n",
    "```\n"
   ]
  },
  {
   "cell_type": "markdown",
   "metadata": {},
   "source": [
    "Run `python src/hest/bench/training/predict_expression.py --config bench_config/bench_config.yaml`.\n",
    "\n",
    "All results will automatically be dumped in the `results_dir` specified in the `.yaml` config.\n"
   ]
  },
  {
   "cell_type": "code",
   "execution_count": null,
   "metadata": {},
   "outputs": [],
   "source": []
  }
 ],
 "metadata": {
  "kernelspec": {
   "display_name": "hest",
   "language": "python",
   "name": "hest"
  },
  "language_info": {
   "codemirror_mode": {
    "name": "ipython",
    "version": 3
   },
   "file_extension": ".py",
   "mimetype": "text/x-python",
   "name": "python",
   "nbconvert_exporter": "python",
   "pygments_lexer": "ipython3",
   "version": "3.9.19"
  }
 },
 "nbformat": 4,
 "nbformat_minor": 4
}
