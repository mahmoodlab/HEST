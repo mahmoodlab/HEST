{
 "cells": [
  {
   "cell_type": "markdown",
   "metadata": {},
   "source": [
    "## Xenium sensitivity analysis\n",
    "\n",
    "### Relative per-gene sensitivity between two samples\n",
    "\n",
    "This task compares the sensitivity of two samples obtained with different panels (Xenium Prime 5K relative to Xenium v1).\n",
    "\n",
    "| Sample  | Panel | Organ | Disease |\n",
    "|---------|-------|-------|---------|\n",
    "| TENX143 | Xenium Human 5K Pan Tissue and Pathways Panel | Lymphoid | Diseased (Reactive Lymph Node) |\n",
    "| TENX125 | Xenium Human Multi-Tissue and Cancer Panel (V1) | Lymphoid | Diseased (Reactive follicular hyperplasia) |\n",
    "| TENX158 | Xenium Human 5K Pan Tissue and Pathways Panel | Skin | Cancer (Primary Dermal Melanoma) |\n",
    "| TENX115 | Xenium Human Skin Gene Expression Panel (V1) | Skin | Cancer (SKCM) |\n",
    "\n",
    "Compare same-organ samples to have enough genes in common."
   ]
  },
  {
   "cell_type": "code",
   "execution_count": null,
   "metadata": {},
   "outputs": [],
   "source": [
    "from hest import iter_hest\n",
    "from hest.sensitivity import find_common_genes, filter_adata_by_gene_names, paired_sensitivity\n",
    "\n",
    "# ids_to_query = ['TENX143', 'TENX125']\n",
    "ids_to_query = ['TENX158', 'TENX115']\n",
    "\n",
    "adata_list = []\n",
    "for st in iter_hest('../hest_data', id_list=ids_to_query):\n",
    "    # TO DO: Unify gene names\n",
    "    adata_list.append(st.adata)\n",
    "\n",
    "common_genes = find_common_genes(adata_list)\n",
    "if len(common_genes) > 0:\n",
    "    print('Number of Common Genes: ', len(common_genes))\n",
    "else:\n",
    "    raise ValueError('No common genes found between the datasets')\n",
    "\n",
    "adata_filtered_1 = filter_adata_by_gene_names(adata_list[0], common_genes)\n",
    "adata_filtered_2 = filter_adata_by_gene_names(adata_list[1], common_genes)\n",
    "\n",
    "per_gene_ratio, per_sample_ratio = paired_sensitivity(adata_filtered_1, adata_filtered_2)\n",
    "\n",
    "import matplotlib.pyplot as plt\n",
    "subtitle = f'Ratio of average sensitivity across all genes = {per_sample_ratio*100:.2f}%'\n",
    "plt.figure(figsize=(4, 6), dpi=400)\n",
    "plt.boxplot(per_gene_ratio * 100, tick_labels=[subtitle])\n",
    "plt.title(f'Per-Gene Sensitivity {ids_to_query[0]} Relative to {ids_to_query[1]}')\n",
    "plt.ylabel('Per-Gene Relative Sensitivity (%)')\n",
    "plt.show()"
   ]
  },
  {
   "cell_type": "markdown",
   "metadata": {},
   "source": [
    "### False Positive Rate\n",
    "\n",
    "Two metrics are proposed:\n",
    "- **Negative Control Codeword Rate (NCCR)**: false positive rate of the decoding algorithm adjusted to the proportion of negative control codewords in the panel.\n",
    "- **Negative Control Probe Rate (NCPR)**: false positive rate of the transcript signal adjusted to the proportion of probes that are negative control probes in the panel."
   ]
  },
  {
   "cell_type": "code",
   "execution_count": null,
   "metadata": {},
   "outputs": [],
   "source": [
    "from hest.sensitivity import compute_negative_control_codeword_rate, compute_negative_control_probe_rate\n",
    "\n",
    "for i, adata in enumerate(adata_list):\n",
    "    nccr = compute_negative_control_codeword_rate(adata)\n",
    "    ncpr = compute_negative_control_probe_rate(adata)\n",
    "    print(f'False Positive Rate Metrics for {ids_to_query[i]}')\n",
    "    print(f'Negative Control Codeword Rate: {nccr*100:.2f}%')\n",
    "    print(f'Negative Control Probe Rate: {ncpr*100:.2f}%')\n",
    "    print()"
   ]
  },
  {
   "cell_type": "markdown",
   "metadata": {},
   "source": [
    "### Using raw transcript data (for Xenium only)\n",
    "\n",
    "Using raw transcript data one can filter high quality (Phred quality score >= 20) transcripts."
   ]
  },
  {
   "cell_type": "code",
   "execution_count": null,
   "metadata": {},
   "outputs": [],
   "source": [
    "import pandas as pd\n",
    "from hest.sensitivity import compute_negative_control_codeword_rate, compute_negative_control_probe_rate\n",
    "\n",
    "for id in ids_to_query:\n",
    "    parquet_file = f'../hest_data/transcripts/{id}_transcripts.parquet'\n",
    "    transcripts_df = pd.read_parquet(parquet_file, columns=['feature_name', 'qv'])\n",
    "    transcripts_df = transcripts_df[transcripts_df['qv'] >= 20][['feature_name']]\n",
    "    nccr = compute_negative_control_codeword_rate(transcripts_df)\n",
    "    ncpr = compute_negative_control_probe_rate(transcripts_df)\n",
    "    del transcripts_df\n",
    "    print(f'False Positive Rate Metrics for {id}')\n",
    "    print(f'Negative Control Codeword Rate: {nccr*100:.2f}%')\n",
    "    print(f'Negative Control Probe Rate: {ncpr*100:.2f}%')"
   ]
  }
 ],
 "metadata": {
  "kernelspec": {
   "display_name": "hest",
   "language": "python",
   "name": "python3"
  },
  "language_info": {
   "codemirror_mode": {
    "name": "ipython",
    "version": 3
   },
   "file_extension": ".py",
   "mimetype": "text/x-python",
   "name": "python",
   "nbconvert_exporter": "python",
   "pygments_lexer": "ipython3",
   "version": "3.9.20"
  }
 },
 "nbformat": 4,
 "nbformat_minor": 2
}
