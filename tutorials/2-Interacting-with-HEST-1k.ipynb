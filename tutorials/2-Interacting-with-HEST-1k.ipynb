{
 "cells": [
  {
   "cell_type": "markdown",
   "metadata": {},
   "source": [
    "## Step-by-step instructions to interact HEST-1k \n",
    "\n",
    "This tutorial will guide you to:\n",
    "\n",
    "- Read HEST data\n",
    "- Visualized the spots over a downscaled version of the WSI\n",
    "- Saving HESTData into Pyramidal Tif and anndata\n",
    "\n",
    "\n",
    "This tutorial assumes that the user has already downloaded HEST-1k (in its entirety or partially). "
   ]
  },
  {
   "cell_type": "markdown",
   "metadata": {},
   "source": [
    "### Read HEST"
   ]
  },
  {
   "cell_type": "code",
   "execution_count": null,
   "metadata": {},
   "outputs": [],
   "source": [
    "from hest import read_HESTData\n",
    "from hest import load_hest\n",
    "\n",
    "# 1- Read the whole hest dataset\n",
    "#hest_data = load_hest('../hest_data')\n",
    "\n",
    "# 2- Read a subset of hest\n",
    "hest_data = load_hest('../hest_data', id_list=['TENX96'])\n",
    "\n",
    "st = hest_data[0]\n",
    "\n",
    "# 3- Access objects\n",
    "\n",
    "# ST (adata):\n",
    "adata = st.adata\n",
    "print('\\n* Scanpy adata:')\n",
    "print(adata)\n",
    "\n",
    "# WSI:\n",
    "wsi = st.wsi\n",
    "print('\\n* WSI:')\n",
    "print(wsi)\n"
   ]
  },
  {
   "cell_type": "markdown",
   "metadata": {},
   "source": [
    "## Visualizing the spots over a downscaled version of the WSI"
   ]
  },
  {
   "cell_type": "code",
   "execution_count": null,
   "metadata": {},
   "outputs": [],
   "source": [
    "# visualize the spots over a downscaled version of the full resolution image\n",
    "save_dir = '.'\n",
    "st.save_spatial_plot(save_dir)\n"
   ]
  },
  {
   "cell_type": "markdown",
   "metadata": {},
   "source": [
    "## Saving to pyramidal tiff and h5\n",
    "Save `HESTData` object to `.tiff` + expression `.h5ad` and a metadata file."
   ]
  },
  {
   "cell_type": "code",
   "execution_count": null,
   "metadata": {},
   "outputs": [],
   "source": [
    "# Warning saving a large image to pyramidal tiff (>1GB) can be slow on a hard drive.\n",
    "st.save(save_dir, pyramidal=True)"
   ]
  },
  {
   "cell_type": "markdown",
   "metadata": {},
   "source": [
    "## Tissue segmentation\n",
    "\n",
    "We integrated 2 tissue segmentation methods:\n",
    "\n",
    "- Image processing-based using Otsu thresholding \n",
    "- Deep learning-based using a fine-tuned DeepLabV3 ResNet50\n"
   ]
  },
  {
   "cell_type": "code",
   "execution_count": null,
   "metadata": {},
   "outputs": [],
   "source": [
    "save_dir = '.'\n",
    "\n",
    "name = 'tissue_seg_otsu'\n",
    "st.segment_tissue(method='otsu') \n",
    "st.save_tissue_seg_pkl(save_dir, name)\n",
    "\n",
    "name = 'tissue_seg_deep'\n",
    "st.segment_tissue(method='deep') \n"
   ]
  },
  {
   "cell_type": "markdown",
   "metadata": {},
   "source": [
    "## Patching"
   ]
  },
  {
   "cell_type": "code",
   "execution_count": null,
   "metadata": {},
   "outputs": [],
   "source": [
    "patch_save_dir = './processed'\n",
    "\n",
    "st.dump_patches(\n",
    "    patch_save_dir,\n",
    "    'demo',\n",
    "    target_patch_size=224,\n",
    "    target_pixel_size=0.5\n",
    ")"
   ]
  },
  {
   "cell_type": "code",
   "execution_count": null,
   "metadata": {},
   "outputs": [],
   "source": []
  }
 ],
 "metadata": {
  "kernelspec": {
   "display_name": "hest",
   "language": "python",
   "name": "hest"
  },
  "language_info": {
   "codemirror_mode": {
    "name": "ipython",
    "version": 3
   },
   "file_extension": ".py",
   "mimetype": "text/x-python",
   "name": "python",
   "nbconvert_exporter": "python",
   "pygments_lexer": "ipython3",
   "version": "3.9.19"
  }
 },
 "nbformat": 4,
 "nbformat_minor": 2
}
