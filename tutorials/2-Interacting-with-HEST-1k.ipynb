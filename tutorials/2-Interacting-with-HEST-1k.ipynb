{
 "cells": [
  {
   "cell_type": "markdown",
   "metadata": {},
   "source": [
    "## Step-by-step instructions to interact HEST-1k \n",
    "\n",
    "This tutorial will guide you to:\n",
    "\n",
    "- Read HEST data\n",
    "- Visualized the spots over a downscaled version of the WSI\n",
    "- Saving HESTData into Pyramidal Tif and anndata\n",
    "\n",
    "\n",
    "This tutorial assumes that the user has already downloaded HEST-1k (in its entirety or partially). "
   ]
  },
  {
   "cell_type": "markdown",
   "metadata": {},
   "source": [
    "### Read HEST"
   ]
  },
  {
   "cell_type": "code",
   "execution_count": 3,
   "metadata": {},
   "outputs": [
    {
     "name": "stdout",
     "output_type": "stream",
     "text": [
      "\n",
      "* Scanpy adata:\n",
      "AnnData object with n_obs × n_vars = 7233 × 541\n",
      "    obs: 'in_tissue', 'pxl_col_in_fullres', 'pxl_row_in_fullres', 'array_col', 'array_row', 'n_counts', 'n_genes_by_counts', 'log1p_n_genes_by_counts', 'total_counts', 'log1p_total_counts', 'pct_counts_in_top_50_genes', 'pct_counts_in_top_100_genes', 'pct_counts_in_top_200_genes', 'pct_counts_in_top_500_genes', 'total_counts_mito', 'log1p_total_counts_mito', 'pct_counts_mito'\n",
      "    var: 'n_cells_by_counts', 'mean_counts', 'log1p_mean_counts', 'pct_dropout_by_counts', 'total_counts', 'log1p_total_counts', 'mito'\n",
      "    uns: 'spatial'\n",
      "    obsm: 'spatial'\n",
      "\n",
      "* WSI:\n",
      "<hest.wsi.CuImageWSI object at 0x7fdf68239f10>\n"
     ]
    }
   ],
   "source": [
    "from hest import read_HESTData\n",
    "from hest import load_hest\n",
    "\n",
    "# 1- Read the whole hest dataset\n",
    "#hest_data = load_hest('../hest_data')\n",
    "\n",
    "# 2- Read a subset of hest\n",
    "hest_data = load_hest('../hest_data', id_list=['TENX96'])\n",
    "\n",
    "st = hest_data[0]\n",
    "\n",
    "# 3- Access objects\n",
    "\n",
    "# ST (adata):\n",
    "adata = st.adata\n",
    "print('\\n* Scanpy adata:')\n",
    "print(adata)\n",
    "\n",
    "# WSI:\n",
    "wsi = st.wsi\n",
    "print('\\n* WSI:')\n",
    "print(wsi)\n"
   ]
  },
  {
   "cell_type": "markdown",
   "metadata": {},
   "source": [
    "`st.adata` is a spatial scanpy object containing the following:\n",
    "## Observations (st.adata.obs)\n",
    "- `in_tissue`: Indicator if the observation is within the tissue (`in_tissue` comes from the initial Visium/Xenium run and might not be accurate, prefer the segmentation obtained by st.segment_tissue() instead).\n",
    "- `pxl_col_in_fullres`: Pixel column position of the patch/spot centroid in the full resolution image.\n",
    "- `pxl_row_in_fullres`: Pixel row position of the patch/spot centroid in the full resolution image.\n",
    "- `array_col`: Patch/spot column position in the array.\n",
    "- `array_row`: Patch/spot row position in the array.\n",
    "- `n_counts`: Number of counts for each observation.\n",
    "- `n_genes_by_counts`: Number of genes detected by counts in each observation.\n",
    "- `log1p_n_genes_by_counts`: Log-transformed number of genes detected by counts.\n",
    "- `total_counts`: Total counts per observation.\n",
    "- `log1p_total_counts`: Log-transformed total counts.\n",
    "- `pct_counts_in_top_50_genes`: Percentage of counts in the top 50 genes.\n",
    "- `pct_counts_in_top_100_genes`: Percentage of counts in the top 100 genes.\n",
    "- `pct_counts_in_top_200_genes`: Percentage of counts in the top 200 genes.\n",
    "- `pct_counts_in_top_500_genes`: Percentage of counts in the top 500 genes.\n",
    "- `total_counts_mito`: Total mitochondrial counts per observation. (note that this field might not be accurate)\n",
    "- `log1p_total_counts_mito`: Log-transformed total mitochondrial counts. (note that this field might not be accurate)\n",
    "- `pct_counts_mito`: Percentage of counts that are mitochondrial. (note that this field might not be accurate)\n",
    "\n",
    "## Variables (st.adata.var)\n",
    "- `n_cells_by_counts`: Number of cells detected by counts for each variable.\n",
    "- `mean_counts`: Mean counts per variable.\n",
    "- `log1p_mean_counts`: Log-transformed mean counts.\n",
    "- `pct_dropout_by_counts`: Percentage of dropout events by counts.\n",
    "- `total_counts`: Total counts per variable.\n",
    "- `log1p_total_counts`: Log-transformed total counts.\n",
    "- `mito`: Indicator if the gene is mitochondrial. (note that this field might not be accurate)\n",
    "\n",
    "## Unstructured (st.adata.uns)\n",
    "- `spatial`: Contains a downscaled version of the full resolution image in `st.adata.uns['spatial']['ST']['images']['downscaled_fullres']`\n",
    "\n",
    "## Observation-wise Multidimensional (st.adata.obsm)\n",
    "- `spatial`: Pixel coordinates of spots/patches centroids on the full resolution image. (first column is x axis, second column is y axis)"
   ]
  },
  {
   "cell_type": "markdown",
   "metadata": {},
   "source": [
    "## Visualizing the spots over a downscaled version of the WSI"
   ]
  },
  {
   "cell_type": "code",
   "execution_count": null,
   "metadata": {},
   "outputs": [],
   "source": [
    "# visualize the spots over a downscaled version of the full resolution image\n",
    "save_dir = '.'\n",
    "st.save_spatial_plot(save_dir)\n"
   ]
  },
  {
   "cell_type": "markdown",
   "metadata": {},
   "source": [
    "## Saving to pyramidal tiff and h5\n",
    "Save `HESTData` object to `.tiff` + expression `.h5ad` and a metadata file."
   ]
  },
  {
   "cell_type": "code",
   "execution_count": null,
   "metadata": {},
   "outputs": [],
   "source": [
    "# Warning saving a large image to pyramidal tiff (>1GB) can be slow on a hard drive.\n",
    "st.save(save_dir, pyramidal=True)"
   ]
  },
  {
   "cell_type": "markdown",
   "metadata": {},
   "source": [
    "## Tissue segmentation\n",
    "\n",
    "We integrated 2 tissue segmentation methods:\n",
    "\n",
    "- Image processing-based using Otsu thresholding \n",
    "- Deep learning-based using a fine-tuned DeepLabV3 ResNet50\n"
   ]
  },
  {
   "cell_type": "code",
   "execution_count": null,
   "metadata": {},
   "outputs": [],
   "source": [
    "save_dir = '.'\n",
    "\n",
    "name = 'tissue_seg_otsu'\n",
    "st.segment_tissue(method='otsu') \n",
    "st.save_tissue_seg_pkl(save_dir, name)\n",
    "\n",
    "name = 'tissue_seg_deep'\n",
    "st.segment_tissue(method='deep') \n"
   ]
  },
  {
   "cell_type": "markdown",
   "metadata": {},
   "source": [
    "## Patching"
   ]
  },
  {
   "cell_type": "code",
   "execution_count": null,
   "metadata": {},
   "outputs": [],
   "source": [
    "patch_save_dir = './processed'\n",
    "\n",
    "st.dump_patches(\n",
    "    patch_save_dir,\n",
    "    'demo',\n",
    "    target_patch_size=224,\n",
    "    target_pixel_size=0.5\n",
    ")"
   ]
  }
 ],
 "metadata": {
  "kernelspec": {
   "display_name": "hest",
   "language": "python",
   "name": "hest"
  },
  "language_info": {
   "codemirror_mode": {
    "name": "ipython",
    "version": 3
   },
   "file_extension": ".py",
   "mimetype": "text/x-python",
   "name": "python",
   "nbconvert_exporter": "python",
   "pygments_lexer": "ipython3",
   "version": "3.9.19"
  }
 },
 "nbformat": 4,
 "nbformat_minor": 2
}
