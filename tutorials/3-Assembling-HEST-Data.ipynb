{
 "cells": [
  {
   "cell_type": "markdown",
   "metadata": {},
   "source": [
    "## Step-by-step instructions to assemble HEST data \n",
    "\n",
    "This tutorial will guide you to convert a legacy Visium sample into a HEST-compatible object. \n"
   ]
  },
  {
   "cell_type": "markdown",
   "metadata": {},
   "source": [
    "### Download Visium sample from NCBI"
   ]
  },
  {
   "cell_type": "code",
   "execution_count": null,
   "metadata": {},
   "outputs": [],
   "source": [
    "%%bash\n",
    "# As an example, download the files from the following NCBI study:\n",
    "# https://www.ncbi.nlm.nih.gov/geo/query/acc.cgi?acc=GSM6215674)\n",
    "\n",
    "mkdir downloads\n",
    "cd downloads\n",
    "wget https://ftp.ncbi.nlm.nih.gov/geo/samples/GSM6215nnn/GSM6215674/suppl/GSM6215674%5FS13.png.gz\n",
    "gunzip GSM6215674_S13.png.gz\n",
    "wget https://ftp.ncbi.nlm.nih.gov/geo/samples/GSM6215nnn/GSM6215674/suppl/GSM6215674%5FS13%5Ffiltered%5Ffeature%5Fbc%5Fmatrix.h5"
   ]
  },
  {
   "cell_type": "markdown",
   "metadata": {},
   "source": [
    "### Create HESTData object from the image and count matrix \n",
    "\n",
    "The library performs:\n",
    "\n",
    "- Creation of AnnData object\n",
    "- Creation of OpenSlide object \n",
    "- Automatic fiducial detection for spot alignment \n",
    "\n",
    "**Troubleshooting:**\n",
    "\n",
    "If you encounter: `SystemError: ffi_prep_closure(): bad user_data (it seems that the version of the libffi library`. Attempt: `pip install --force-reinstall --no-binary :all: cffi`"
   ]
  },
  {
   "cell_type": "code",
   "execution_count": null,
   "metadata": {},
   "outputs": [],
   "source": [
    "from hest import VisiumReader\n",
    "\n",
    "fullres_img_path = 'downloads/GSM6215674_S13.png'\n",
    "bc_matrix_path = 'downloads/GSM6215674_S13_filtered_feature_bc_matrix.h5'\n",
    "\n",
    "st = VisiumReader().read(\n",
    "    fullres_img_path, # path to a full res image\n",
    "    bc_matrix_path, # path to filtered_feature_bc_matrix.h5\n",
    "    save_autoalign=True # pass this argument to visualize the fiducial autodetection\n",
    ")"
   ]
  },
  {
   "cell_type": "code",
   "execution_count": null,
   "metadata": {},
   "outputs": [],
   "source": [
    "st.save(path='processed')"
   ]
  },
  {
   "cell_type": "markdown",
   "metadata": {},
   "source": [
    "You can also visualize an overlay of the aligned spots on the downscaled WSI"
   ]
  },
  {
   "cell_type": "code",
   "execution_count": null,
   "metadata": {},
   "outputs": [],
   "source": [
    "st.save_spatial_plot(save_path='processed')"
   ]
  },
  {
   "cell_type": "markdown",
   "metadata": {},
   "source": [
    "### When should I provide an alignment file and when should I use the autoalignment?\n",
    "\n",
    "#### Step 1: check if a tissue_positions.csv/tissue_position_list.csv already provides a correct alignment\n",
    "\n",
    "In most cases, if a `spatial/` folder containing a `tissue_positions.csv` or `tissue_position_list.csv` is available you don't need any autoalignment/alignment file.\n",
    "\n",
    "Try the following:\n",
    "\n",
    "`st = VisiumReader().read(fullres_img_path, bc_matric_path, spatial_coord_path=spatial_path)`, where `spatial_path` is contains `tissue_positions.csv` or `tissue_position_list.csv`. You can manually inspect the alignment by saving a visualization plot that takes the full resolution image, downscale it and overlays it with the spots (using `st.save_spatial_plot(save_dir)`). If the alignment is incorrect, try step 2.\n",
    "\n",
    "#### Step 2: check if a .json alignment file is provided\n",
    "\n",
    "If a `.json` alignment file is available, try: `VisiumReader().read(fullres_img_path, bc_matric_path, spatial_coord_path=spatial_path, alignment_file_path=align_path)`. You can also omit the `spatial_coord_path` as `VisiumReader().read(fullres_img_path, bc_matric_path, alignment_file_path=align_path)`\n",
    "\n",
    "#### Step 3: attempt auto-alignment\n",
    "\n",
    "If at least 3 corner fiducials are not cropped out and are reasonably visible, you can attempt an autoalignment with `VisiumReader().read(fullres_img_path, bc_matric_path`. (if no spatial folder and no alignment_file_path is provided, it will attempt autoalignment by default, you can also force auto-alignment by passing `autoalign='always'`). \n",
    "\n",
    "### Examples:"
   ]
  },
  {
   "cell_type": "code",
   "execution_count": null,
   "metadata": {},
   "outputs": [],
   "source": [
    "from hest import VisiumReader\n",
    "\n",
    "fullres_img_path = 'my_path/image.tif'\n",
    "bc_matrix_path = 'my_path/filtered_bc_matrix.h5'\n",
    "spatial_coord_path = 'my_path/spatial'\n",
    "alignment_file_path = 'my_path/alignment.txt'\n",
    "\n",
    "st = VisiumReader().read(\n",
    "    fullres_img_path, # path to a full res image\n",
    "    bc_matrix_path, # path to filtered_feature_bc_matrix.h5\n",
    "    spatial_coord_path=spatial_coord_path # path to a space ranger spatial/ folder containing either a tissue_positions.csv or tissue_position_list.csv\n",
    ")\n",
    "\n",
    "# if no spatial folder is provided, but you have an alignment file\n",
    "st = VisiumReader().read(\n",
    "    fullres_img_path, # path to a full res image\n",
    "    bc_matrix_path, # path to filtered_feature_bc_matrix.h5\n",
    "    alignment_file_path=alignment_file_path # path to a .json alignment file\n",
    ")\n",
    "\n",
    "# if both the alignment file and the spatial folder are missing, attempt auto-alignment\n",
    "st = VisiumReader().read(\n",
    "    fullres_img_path, # path to a full res image\n",
    "    bc_matrix_path, # path to filtered_feature_bc_matrix.h5\n",
    ")\n"
   ]
  },
  {
   "cell_type": "markdown",
   "metadata": {},
   "source": [
    "### Auto read\n",
    "Given that `visium_dir` contains a full resolution image and all the necessary Visium files such as the `filtered_bc_matrix.h5` and the `spatial` folder, `VisiumReader.auto_read(path)` should be able to automatically read the sample. Prefer `read` for a more fine grain control.\n"
   ]
  },
  {
   "cell_type": "code",
   "execution_count": null,
   "metadata": {},
   "outputs": [],
   "source": [
    "from hest import VisiumReader\n",
    "\n",
    "visium_dir = ...\n",
    "\n",
    "# attempt autoread\n",
    "st = VisiumReader().auto_read(visium_dir)"
   ]
  }
 ],
 "metadata": {
  "kernelspec": {
   "display_name": "hest",
   "language": "python",
   "name": "hest"
  },
  "language_info": {
   "codemirror_mode": {
    "name": "ipython",
    "version": 3
   },
   "file_extension": ".py",
   "mimetype": "text/x-python",
   "name": "python",
   "nbconvert_exporter": "python",
   "pygments_lexer": "ipython3",
   "version": "3.9.19"
  }
 },
 "nbformat": 4,
 "nbformat_minor": 2
}
