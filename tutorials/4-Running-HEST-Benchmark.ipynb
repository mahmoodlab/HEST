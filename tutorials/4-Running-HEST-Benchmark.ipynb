{
 "cells": [
  {
   "cell_type": "markdown",
   "metadata": {},
   "source": [
    "## Step-by-step instructions to run HEST-Benchmark\n",
    "\n",
    "This tutorial will guide you to:\n",
    "\n",
    "- **Reproduce** HEST-Benchmark results provided in the paper (Random Forest regression and Ridge regression models)\n",
    "- Benchmark your **own** model\n"
   ]
  },
  {
   "cell_type": "markdown",
   "metadata": {},
   "source": [
    "### Reproducing HEST-Benchmark results \n",
    "\n",
    "- Ensure that HEST has been properly installed (see README, Installation)\n",
    "- Automatic download preprocessed patches, h5ad and gene targets  \n",
    "- Automatic download of publicly available patch encoders\n",
    "\n",
    "**Note:** Not all public foundation models can be shared due to licensing issues. We provide model-specific instructions that users can follow to access weights:\n",
    "\n",
    "#### CONCH installation (model + weights)\n",
    "\n",
    "1. Request access to the model weights from the Huggingface model page [here](https://huggingface.co/MahmoodLab/CONCH).\n",
    "\n",
    "2. Download the model weights (`pytorch_model.bin`) and place them in your `fm_v1` directory `fm_v1/conch_v1_official/pytorch_model.bin`\n",
    "\n",
    "3. Install the CONCH PyTorch model:\n",
    "\n",
    "```\n",
    "git clone https://github.com/mahmoodlab/CONCH.git\n",
    "cd CONCH\n",
    "pip install -e .\n",
    "```\n",
    "\n",
    "#### UNI installation (weights only)\n",
    "\n",
    "1. Request access to the model weights from the Huggingface model page [here](https://huggingface.co/MahmoodLab/UNI).\n",
    "\n",
    "2. Download the model weights (`pytorch_model.bin`) and place them in your `fm_v1` directory `fm_v1/uni_v1_official/pytorch_model.bin`\n",
    "\n",
    "\n",
    "#### GigaPath installation (weight only)\n",
    "\n",
    "1. Request access to the model weights from the Huggingface model page  [here](https://huggingface.co/prov-gigapath/prov-gigapath).\n",
    "2. Download the model weights (`prov-gigapath.bin`) and place them in your `fm_v1` directory `fm_v1/gigapath/pytorch_model.bin`\n",
    "\n",
    "\n",
    "#### Remedis (weights only)\n",
    "\n",
    "1. Request access to the model weights from the Huggingface model page  [here](https://physionet.org/content/medical-ai-research-foundation/1.0.0/).\n",
    "2. Download the model weights (`path-152x2-remedis-m_torch.pth`) and place them in your `fm_v1` directory `fm_v1/remedis/`\n"
   ]
  },
  {
   "cell_type": "code",
   "execution_count": null,
   "metadata": {},
   "outputs": [],
   "source": [
    "%%bash\n",
    "\n",
    "python ../src/hest/bench/training/predict_expression.py --config ../bench_config/bench_config.yaml"
   ]
  },
  {
   "cell_type": "markdown",
   "metadata": {},
   "source": [
    "### Benchmarking your own model with HEST-Benchmark \n"
   ]
  },
  {
   "cell_type": "code",
   "execution_count": null,
   "metadata": {},
   "outputs": [],
   "source": [
    "from hest.bench import benchmark_encoder\n",
    "\n",
    "PATH_TO_CONFIG = .. # path to `bench_config.yaml`\n",
    "model = .. # PyTorch model (torch.nn.Module)\n",
    "model_transforms = .. # transforms to apply during inference (torchvision.transforms.Compose)\n",
    "\n",
    "benchmark_encoder(        \n",
    "    model, \n",
    "    model_transforms,\n",
    "    PATH_TO_CONFIG\n",
    ")"
   ]
  }
 ],
 "metadata": {
  "kernelspec": {
   "display_name": "hest",
   "language": "python",
   "name": "hest"
  },
  "language_info": {
   "codemirror_mode": {
    "name": "ipython",
    "version": 3
   },
   "file_extension": ".py",
   "mimetype": "text/x-python",
   "name": "python",
   "nbconvert_exporter": "python",
   "pygments_lexer": "ipython3",
   "version": "3.9.19"
  }
 },
 "nbformat": 4,
 "nbformat_minor": 4
}
